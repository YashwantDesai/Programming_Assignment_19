{
 "cells": [
  {
   "cell_type": "markdown",
   "id": "0c27a818",
   "metadata": {},
   "source": [
    "# Yashwant Desai –  Programming_Assingment 19"
   ]
  },
  {
   "cell_type": "markdown",
   "id": "9f377b0f",
   "metadata": {},
   "source": [
    "# Question 1"
   ]
  },
  {
   "cell_type": "markdown",
   "id": "169fa0f0",
   "metadata": {},
   "source": [
    "Create a function that takes a string and returns a string in which each character is repeated once.\n",
    "Examples\n",
    "double_char(\"String\") ➞ \"SSttrriinngg\"\n",
    "\n",
    "double_char(\"Hello World!\") ➞ \"HHeelllloo  WWoorrlldd!!\"\n",
    "\n",
    "double_char(\"1234!_ \") ➞ \"11223344!!__  \""
   ]
  },
  {
   "cell_type": "code",
   "execution_count": 1,
   "id": "d34d028c",
   "metadata": {},
   "outputs": [
    {
     "name": "stdout",
     "output_type": "stream",
     "text": [
      "String ➞  SSttrriinngg\n",
      "Hello World! ➞  HHeelllloo  WWoorrlldd!!\n",
      "1234!_ ➞  11223344!!__  \n"
     ]
    }
   ],
   "source": [
    "def double_char(string):\n",
    "    result = ''\n",
    "    for char in string:\n",
    "        result += char * 2\n",
    "    return result\n",
    "a = (double_char(\"String\"))\n",
    "b = (double_char(\"Hello World!\"))\n",
    "c = (double_char(\"1234!_ \"))\n",
    "print(f\"String ➞  {a}\")\n",
    "print(f\"Hello World! ➞  {b}\")\n",
    "print(f\"1234!_ ➞  {c}\")"
   ]
  },
  {
   "cell_type": "markdown",
   "id": "dc00f80f",
   "metadata": {},
   "source": [
    "# Question2"
   ]
  },
  {
   "cell_type": "markdown",
   "id": "8f5434d4",
   "metadata": {},
   "source": [
    "Create a function that reverses a boolean value and returns the string \"boolean expected\" if another variable type is given.\n",
    "Examples\n",
    "reverse(True) ➞ False\n",
    "\n",
    "reverse(False) ➞ True\n",
    "\n",
    "reverse(0) ➞ \"boolean expected\"\n",
    "\n",
    "reverse(None) ➞ \"boolean expected\""
   ]
  },
  {
   "cell_type": "code",
   "execution_count": 2,
   "id": "780ef61d",
   "metadata": {},
   "outputs": [
    {
     "name": "stdout",
     "output_type": "stream",
     "text": [
      "reverse(True) ➞ False\n",
      "reverse(False) ➞ True\n",
      "reverse(0) ➞ boolean expected\n",
      "reverse(None) ➞ boolean expected\n"
     ]
    }
   ],
   "source": [
    "def reverse_boolean(string):\n",
    "    if isinstance(string,bool):\n",
    "        return not string\n",
    "    else:\n",
    "        return \"boolean expected\"\n",
    "print(f\"reverse(True) ➞ {reverse_boolean(True)}\")\n",
    "print(f\"reverse(False) ➞ {reverse_boolean(False)}\")\n",
    "print(f\"reverse(0) ➞ {reverse_boolean(0)}\")\n",
    "print(f\"reverse(None) ➞ {reverse_boolean(None)}\")\n"
   ]
  },
  {
   "cell_type": "markdown",
   "id": "506c279a",
   "metadata": {},
   "source": [
    "# Question3"
   ]
  },
  {
   "cell_type": "raw",
   "id": "b26ddaec",
   "metadata": {},
   "source": [
    "Create a function that returns the thickness (in meters) of a piece of paper after folding it n number of times. The paper starts off with a thickness of 0.5mm.\n",
    "Examples\n",
    "num_layers(1) ➞ \"0.001m\"\n",
    "# Paper folded once is 1mm (equal to 0.001m)\n",
    "\n",
    "num_layers(4) ➞ \"0.008m\"\n",
    "# Paper folded 4 times is 8mm (equal to 0.008m)\n",
    "\n",
    "num_layers(21) ➞ \"1048.576m\"\n",
    "# Paper folded 21 times is 1048576mm (equal to 1048.576m)"
   ]
  },
  {
   "cell_type": "code",
   "execution_count": 3,
   "id": "7343b4f7",
   "metadata": {},
   "outputs": [
    {
     "name": "stdout",
     "output_type": "stream",
     "text": [
      "num_layers(1) ➞ 0.010m\n",
      "num_layers(4) ➞ 0.080m\n",
      "num_layers(21) ➞ 10485.760m\n"
     ]
    }
   ],
   "source": [
    "def num_layers(num):\n",
    "    thickness_mm = 0.5\n",
    "    folding_num = 2\n",
    "    result = (thickness_mm * (folding_num ** num))/100\n",
    "    return \"{:.3f}m\".format(result)\n",
    "print(f\"num_layers(1) ➞ {num_layers(1)}\")\n",
    "print(f\"num_layers(4) ➞ {num_layers(4)}\")\n",
    "print(f\"num_layers(21) ➞ {num_layers(21)}\")"
   ]
  },
  {
   "cell_type": "markdown",
   "id": "024f0e42",
   "metadata": {},
   "source": [
    "# Question4"
   ]
  },
  {
   "cell_type": "markdown",
   "id": "1c554409",
   "metadata": {},
   "source": [
    "Create a function that takes a single string as argument and returns an ordered list containing the indices of all capital letters in the string.\n",
    "Examples\n",
    "index_of_caps(\"eDaBiT\") ➞ [1, 3, 5]\n",
    "\n",
    "index_of_caps(\"eQuINoX\") ➞ [1, 3, 4, 6]\n",
    "\n",
    "index_of_caps(\"determine\") ➞ []\n",
    "\n",
    "index_of_caps(\"STRIKE\") ➞ [0, 1, 2, 3, 4, 5]\n",
    "\n",
    "index_of_caps(\"sUn\") ➞ [1]"
   ]
  },
  {
   "cell_type": "code",
   "execution_count": 4,
   "id": "61c2c646",
   "metadata": {},
   "outputs": [
    {
     "name": "stdout",
     "output_type": "stream",
     "text": [
      "index_of_caps(eDaBiT) ➞ [1, 3, 5]\n",
      "index_of_caps(eQuINoX) ➞ [1, 3, 4, 6]\n",
      "index_of_caps(determine) ➞ []\n",
      "index_of_caps(STRIKE) ➞ [0, 1, 2, 3, 4, 5]\n",
      "index_of_caps(sUn) ➞ [1]\n"
     ]
    }
   ],
   "source": [
    "def index_of_caps(s):\n",
    "    indices = [i for i, char in enumerate(s) if char.isupper()]\n",
    "    return indices\n",
    "\n",
    "a = (index_of_caps(\"eDaBiT\"))\n",
    "b = (index_of_caps(\"eQuINoX\"))\n",
    "c = (index_of_caps(\"determine\"))\n",
    "d = (index_of_caps(\"STRIKE\"))\n",
    "e = (index_of_caps(\"sUn\"))\n",
    "print(f\"index_of_caps(eDaBiT) ➞ {a}\")\n",
    "print(f\"index_of_caps(eQuINoX) ➞ {b}\")\n",
    "print(f\"index_of_caps(determine) ➞ {c}\")\n",
    "print(f\"index_of_caps(STRIKE) ➞ {d}\")\n",
    "print(f\"index_of_caps(sUn) ➞ {e}\")"
   ]
  },
  {
   "cell_type": "markdown",
   "id": "1fd70e41",
   "metadata": {},
   "source": [
    "# Question5"
   ]
  },
  {
   "cell_type": "markdown",
   "id": "133fb3d7",
   "metadata": {},
   "source": [
    "Using list comprehensions, create a function that finds all even numbers from 1 to the given number.\n",
    "Examples\n",
    "find_even_nums(8) ➞ [2, 4, 6, 8]\n",
    "\n",
    "find_even_nums(4) ➞ [2, 4]\n",
    "\n",
    "find_even_nums(2) ➞ [2]"
   ]
  },
  {
   "cell_type": "code",
   "execution_count": 5,
   "id": "8d960efb",
   "metadata": {},
   "outputs": [
    {
     "name": "stdout",
     "output_type": "stream",
     "text": [
      "find_even_nums(8) ➞ [2, 4, 6, 8]\n",
      "find_even_nums(4) ➞ [2, 4]\n",
      "find_even_nums(2) ➞ [2]\n"
     ]
    }
   ],
   "source": [
    "def find_even_nums(n):\n",
    "    even_nums = [num for num in range(1, n + 1) if num % 2 == 0]\n",
    "    return even_nums\n",
    "print(f\"find_even_nums(8) ➞ {find_even_nums(8)}\")\n",
    "print(f\"find_even_nums(4) ➞ {find_even_nums(4)}\")\n",
    "print(f\"find_even_nums(2) ➞ {find_even_nums(2)}\")"
   ]
  },
  {
   "cell_type": "markdown",
   "id": "a79c0885",
   "metadata": {},
   "source": [
    "# Done Regards,Yashwant"
   ]
  }
 ],
 "metadata": {
  "kernelspec": {
   "display_name": "Python 3 (ipykernel)",
   "language": "python",
   "name": "python3"
  },
  "language_info": {
   "codemirror_mode": {
    "name": "ipython",
    "version": 3
   },
   "file_extension": ".py",
   "mimetype": "text/x-python",
   "name": "python",
   "nbconvert_exporter": "python",
   "pygments_lexer": "ipython3",
   "version": "3.9.13"
  }
 },
 "nbformat": 4,
 "nbformat_minor": 5
}
